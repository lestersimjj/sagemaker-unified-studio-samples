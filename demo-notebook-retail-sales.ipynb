{
    "cells": [
        {
            "cell_type": "code",
            "execution_count": 0,
            "metadata": {},
            "outputs": [],
            "source": [
                "%%configure -n project.spark.compatibility\n",
                "{\n",
                "    \"number_of_workers\": 10,\n",
                "    \"session_type\": \"etl\",\n",
                "    \"glue_version\": \"5.0\",\n",
                "    \"worker_type\": \"G.4X\",\n",
                "    \"idle_timeout\": 5,\n",
                "    \"timeout\": 60,\n",
                "    \"--enable-glue-datacatalog\": \"true\",\n",
                "    \"--enable-auto-scaling\": \"true\",\n",
                "    \"--project_s3_path\": \"s3://amazon-sagemaker-851725257255-us-west-2-449dd1d4ef26/dzd_ajlm8lj3fn0l00/ajdup62k4b426o/dev\",\n",
                "    \"--redshift_iam_role\": \"arn:aws:iam::851725257255:role/datazone_usr_role_ajdup62k4b426o_6a1pjw547jizdc\",\n",
                "    \"--redshift_tempdir\": \"s3://amazon-sagemaker-851725257255-us-west-2-449dd1d4ef26/dzd_ajlm8lj3fn0l00/ajdup62k4b426o/dev/redshift-tmp/\",\n",
                "    \"--enable-lakeformation-fine-grained-access\": \"false\",\n",
                "    \"--datalake-formats\": \"iceberg\"\n",
                "}"
            ]
        },
        {
            "cell_type": "code",
            "execution_count": 0,
            "id": "e4482c31",
            "metadata": {},
            "outputs": [],
            "source": [
                "%%pyspark project.spark.compatibility\n",
                "import sys\n",
                "from pyspark.context import SparkContext\n",
                "from pyspark.sql import SparkSession\n",
                "from connectivity.adapter import CatalogConnectionHelper\n",
                "\n",
                "import json\n",
                "import boto3\n",
                "import gzip\n",
                "import io\n",
                "import os\n",
                "import pyarrow.parquet as pq\n",
                "import pyarrow.fs as pafs\n",
                "import logging\n",
                "from typing import Optional\n",
                "import random\n",
                "import builtins\n",
                "import csv\n",
                "from urllib.parse import urlparse\n",
                "from awsglue.utils import getResolvedOptions\n",
                "from pyspark.sql.functions import *\n",
                "from awsglue.context import GlueContext\n",
                "from awsglue.job import Job\n",
                "from pyspark.sql import SparkSession\n",
                "from py4j.protocol import Py4JJavaError"
            ]
        },
        {
            "cell_type": "code",
            "execution_count": 0,
            "id": "41a98d06",
            "metadata": {},
            "outputs": [],
            "source": [
                "%%pyspark project.spark.compatibility\n",
                "sc = SparkContext.getOrCreate()\n",
                "spark = SparkSession.builder.getOrCreate()\n"
            ]
        },
        {
            "cell_type": "code",
            "execution_count": 0,
            "id": "60ba58a3",
            "metadata": {},
            "outputs": [],
            "source": [
                "%%pyspark project.spark.compatibility\n",
                "# Script generated for node CatalogDataSource\n",
                "CatalogDataSource_1752969809590202 = spark.sql(\"select * from `lakehouse_salesmarketing_auyxrwy13l5ixc`.`b2b_sales_pipeline`\")"
            ]
        },
        {
            "cell_type": "code",
            "execution_count": 0,
            "id": "6824b0d7",
            "metadata": {},
            "outputs": [],
            "source": [
                "%%pyspark project.spark.compatibility\n",
                "# Script generated for node DropTransform\n",
                "DropTransform_1752969809590203 = CatalogDataSource_1752969809590202.drop(\"pipeline_stage\")"
            ]
        },
        {
            "cell_type": "code",
            "execution_count": 0,
            "id": "49b003cb",
            "metadata": {},
            "outputs": [],
            "source": [
                "%%pyspark project.spark.compatibility\n",
                "from connectivity.adapter import CatalogConnectionHelper\n",
                "\n",
                "# Script generated for node ConnectionV2DataSink\n",
                "ConnectionV2DataSink_1752971581456_additional_options  = {\"mode\": \"overwrite\", \"tempdir_region\": \"us-west-2\", \"tempdir\": \"s3://amazon-sagemaker-851725257255-us-west-2-449dd1d4ef26/dzd_ajlm8lj3fn0l00/ajdup62k4b426o/dev/redshift-tmp/\", \"dbtable\": \"project.b2b_sales_pipeline_cleanrs\"}\n",
                "CatalogConnectionHelper(spark).write(DropTransform_1752969809590203, \"redshift\", \"redshift-conn\", ConnectionV2DataSink_1752971581456_additional_options)"
            ]
        }
    ],
    "metadata": {
        "kernelspec": {
            "display_name": "Python 3 (ipykernel)",
            "language": "python",
            "name": "python3"
        },
        "language_info": {
            "codemirror_mode": {
                "name": "ipython",
                "version": 3
            },
            "file_extension": ".py",
            "mimetype": "text/x-python",
            "name": "python",
            "nbconvert_exporter": "python",
            "pygments_lexer": "ipython3",
            "version": "3.10.14"
        },
        "maxdomeModel": {
            "computeConnection": {
                "authorizationMode": "PROJECT",
                "configurations": [
                    {
                        "classification": "GlueDefaultArgument",
                        "properties": {
                            "--enable-lakeformation-fine-grained-access": "false"
                        }
                    }
                ],
                "connectionIdentifier": "cmeaai074blekw",
                "domainIdentifier": "dzd_ajlm8lj3fn0l00",
                "environmentIdentifier": "6a1pjw547jizdc",
                "location": {
                    "awsAccountId": "851725257255",
                    "awsRegion": "us-west-2"
                },
                "name": "project.spark.compatibility",
                "physicalEndpoints": [
                    {
                        "awsLocation": {
                            "awsAccountId": "851725257255",
                            "awsRegion": "us-west-2"
                        },
                        "glueConnectionName": "datazone-glue-network-connection-ajdup62k4b426o-dev"
                    }
                ],
                "projectIdentifier": "ajdup62k4b426o",
                "provisioningType": "MANAGED",
                "sparkGlueProperties": {
                    "glueConnection": {},
                    "sessionConfigs": {
                        "glue_version": "5.0",
                        "idle_timeout": 60,
                        "number_of_workers": 10,
                        "worker_type": "G.1X"
                    }
                },
                "type": "SPARK"
            },
            "createSessionAdhocRequest": {
                "DefaultArguments": {
                    "--conf": "spark.sql.extensions=org.apache.iceberg.spark.extensions.IcebergSparkSessionExtensions --conf spark.datasource.redshift.community.glue_endpoint=https://glue.us-west-2.amazonaws.com --conf spark.datasource.redshift.community.data_api_endpoint=https://redshift-data.us-west-2.amazonaws.com --conf spark.hadoop.fs.s3.impl=com.amazon.ws.emr.hadoop.fs.EmrFileSystem --conf spark.driver.maxResultSize=0 --conf spark.sql.catalog.spark_catalog=org.apache.iceberg.spark.SparkSessionCatalog --conf spark.sql.catalog.spark_catalog.catalog-impl=org.apache.iceberg.aws.glue.GlueCatalog --conf spark.sql.catalog.spark_catalog.glue.id=851725257255 --conf spark.sql.catalog.spark_catalog.glue.account-id=851725257255 --conf spark.sql.catalog.spark_catalog.glue.endpoint=https://glue.us-west-2.amazonaws.com --conf spark.sql.catalog.spark_catalog.client.region=us-west-2 --conf spark.sql.catalog.rms-managed-catalog_dev=org.apache.iceberg.spark.SparkCatalog --conf spark.sql.catalog.rms-managed-catalog_dev.catalog-impl=org.apache.iceberg.aws.glue.GlueCatalog --conf spark.sql.catalog.rms-managed-catalog_dev.glue.id=851725257255:rms-managed-catalog/dev --conf spark.sql.catalog.rms-managed-catalog_dev.glue.catalog-arn=arn:aws:glue:us-west-2:851725257255:catalog/rms-managed-catalog/dev --conf spark.sql.catalog.rms-managed-catalog_dev.glue.endpoint=https://glue.us-west-2.amazonaws.com --conf spark.sql.catalog.rms-managed-catalog_dev.client.region=us-west-2",
                    "--datalake-formats": "iceberg",
                    "--enable-auto-scaling": "true",
                    "--enable-glue-datacatalog": "true",
                    "--enable-lakeformation-fine-grained-access": "false",
                    "--project_s3_path": "s3://amazon-sagemaker-851725257255-us-west-2-449dd1d4ef26/dzd_ajlm8lj3fn0l00/ajdup62k4b426o/dev",
                    "--redshift_iam_role": "arn:aws:iam::851725257255:role/datazone_usr_role_ajdup62k4b426o_6a1pjw547jizdc",
                    "--redshift_tempdir": "s3://amazon-sagemaker-851725257255-us-west-2-449dd1d4ef26/dzd_ajlm8lj3fn0l00/ajdup62k4b426o/dev/redshift-tmp/"
                }
            },
            "createSessionRequest": {
                "Command": {
                    "Name": "glueetl",
                    "PythonVersion": "3"
                },
                "Connections": {
                    "Connections": [
                        "datazone-glue-network-connection-ajdup62k4b426o-dev",
                        "redshift-conn"
                    ]
                },
                "DefaultArguments": {
                    "--conf": "spark.sql.extensions=org.apache.iceberg.spark.extensions.IcebergSparkSessionExtensions --conf spark.datasource.redshift.community.glue_endpoint=https://glue.us-west-2.amazonaws.com --conf spark.datasource.redshift.community.data_api_endpoint=https://redshift-data.us-west-2.amazonaws.com --conf spark.hadoop.fs.s3.impl=com.amazon.ws.emr.hadoop.fs.EmrFileSystem --conf spark.driver.maxResultSize=0 --conf spark.sql.catalog.spark_catalog=org.apache.iceberg.spark.SparkSessionCatalog --conf spark.sql.catalog.spark_catalog.catalog-impl=org.apache.iceberg.aws.glue.GlueCatalog --conf spark.sql.catalog.spark_catalog.glue.id=851725257255 --conf spark.sql.catalog.spark_catalog.glue.account-id=851725257255 --conf spark.sql.catalog.spark_catalog.glue.endpoint=https://glue.us-west-2.amazonaws.com --conf spark.sql.catalog.spark_catalog.client.region=us-west-2 --conf spark.sql.catalog.rms-managed-catalog_dev=org.apache.iceberg.spark.SparkCatalog --conf spark.sql.catalog.rms-managed-catalog_dev.catalog-impl=org.apache.iceberg.aws.glue.GlueCatalog --conf spark.sql.catalog.rms-managed-catalog_dev.glue.id=851725257255:rms-managed-catalog/dev --conf spark.sql.catalog.rms-managed-catalog_dev.glue.catalog-arn=arn:aws:glue:us-west-2:851725257255:catalog/rms-managed-catalog/dev --conf spark.sql.catalog.rms-managed-catalog_dev.glue.endpoint=https://glue.us-west-2.amazonaws.com --conf spark.sql.catalog.rms-managed-catalog_dev.client.region=us-west-2",
                    "--datalake-formats": "iceberg",
                    "--enable-auto-scaling": "true",
                    "--enable-glue-datacatalog": "true",
                    "--enable-lakeformation-fine-grained-access": "false",
                    "--project_s3_path": "s3://amazon-sagemaker-851725257255-us-west-2-449dd1d4ef26/dzd_ajlm8lj3fn0l00/ajdup62k4b426o/dev",
                    "--redshift_iam_role": "arn:aws:iam::851725257255:role/datazone_usr_role_ajdup62k4b426o_6a1pjw547jizdc",
                    "--redshift_tempdir": "s3://amazon-sagemaker-851725257255-us-west-2-449dd1d4ef26/dzd_ajlm8lj3fn0l00/ajdup62k4b426o/dev/redshift-tmp/"
                },
                "GlueVersion": "5.0",
                "IdleTimeout": 15,
                "NumberOfWorkers": 10,
                "RequestOrigin": "SageMakerUnifiedStudio_VisualETLDataPreview",
                "Role": "arn:aws:iam::851725257255:role/datazone_usr_role_ajdup62k4b426o_6a1pjw547jizdc",
                "Tags": {
                    "AmazonDataZoneDomain": "dzd_ajlm8lj3fn0l00",
                    "AmazonDataZoneEnvironment": "6a1pjw547jizdc",
                    "AmazonDataZoneProject": "ajdup62k4b426o"
                },
                "Timeout": 60,
                "WorkerType": "G.4X"
            },
            "dagOverrideFlags": [],
            "datasamplesMap": {},
            "direction": "horizontal",
            "dpSettings": {
                "autoRestart": true,
                "sampleColSize": 100,
                "sampleSize": 100
            },
            "edges": [
                {
                    "data": {
                        "hovering": false
                    },
                    "id": "1752969809590202-1752969809590203",
                    "source": "1752969809590202",
                    "target": "1752969809590203",
                    "type": "custom"
                },
                {
                    "data": {
                        "hovering": false
                    },
                    "id": "1752969809590203-1752971581456",
                    "markerEnd": {
                        "type": "arrowclosed"
                    },
                    "source": "1752969809590203",
                    "sourceHandle": "1752969809590203-right-source",
                    "target": "1752971581456",
                    "targetHandle": "1752971581456-left-target",
                    "type": "custom"
                }
            ],
            "engine": "Glue",
            "glueJobArn": "arn:aws:glue:us-west-2:851725257255:job/demo-etl-flow",
            "interactiveSessionModel": {
                "additionalPythonModules": "",
                "command": {
                    "name": "glueetl",
                    "pythonVersion": "3"
                },
                "connections": [],
                "extraJars": [],
                "extraPyFiles": [],
                "glueVersion": "5.0",
                "iamRole": "",
                "idleTimeout": 15,
                "numberOfWorkers": 10,
                "sessionType": "etl",
                "tags": {},
                "timeout": 60,
                "workerType": "G.1X"
            },
            "isSaved": true,
            "name": "",
            "nodes": [
                {
                    "data": {
                        "classification": "DataSource",
                        "dataModel": "Structured",
                        "fields": [
                            {
                                "customType": "glueTableQuerySelector",
                                "fieldLabel": "Options",
                                "fieldName": "options",
                                "type": "custom",
                                "validator": {
                                    "_def": {
                                        "discriminator": "inputType",
                                        "options": [
                                            {
                                                "_cached": {
                                                    "keys": [
                                                        "inputType",
                                                        "catalog",
                                                        "database",
                                                        "table"
                                                    ],
                                                    "shape": {
                                                        "catalog": {
                                                            "_def": {
                                                                "checks": [
                                                                    {
                                                                        "kind": "min",
                                                                        "message": "Required",
                                                                        "value": 1
                                                                    }
                                                                ],
                                                                "coerce": false,
                                                                "typeName": "ZodString"
                                                            }
                                                        },
                                                        "database": {
                                                            "_def": {
                                                                "checks": [
                                                                    {
                                                                        "kind": "min",
                                                                        "message": "Required",
                                                                        "value": 1
                                                                    }
                                                                ],
                                                                "coerce": false,
                                                                "typeName": "ZodString"
                                                            }
                                                        },
                                                        "inputType": {
                                                            "_def": {
                                                                "typeName": "ZodLiteral",
                                                                "value": "database/table"
                                                            }
                                                        },
                                                        "table": {
                                                            "_def": {
                                                                "checks": [
                                                                    {
                                                                        "kind": "regex",
                                                                        "regex": {}
                                                                    },
                                                                    {
                                                                        "kind": "min",
                                                                        "message": "Required",
                                                                        "value": 1
                                                                    }
                                                                ],
                                                                "coerce": false,
                                                                "typeName": "ZodString"
                                                            }
                                                        }
                                                    }
                                                },
                                                "_def": {
                                                    "catchall": {
                                                        "_def": {
                                                            "typeName": "ZodNever"
                                                        }
                                                    },
                                                    "typeName": "ZodObject",
                                                    "unknownKeys": "strip"
                                                }
                                            },
                                            {
                                                "_cached": null,
                                                "_def": {
                                                    "catchall": {
                                                        "_def": {
                                                            "typeName": "ZodNever"
                                                        }
                                                    },
                                                    "typeName": "ZodObject",
                                                    "unknownKeys": "strip"
                                                }
                                            }
                                        ],
                                        "optionsMap": {},
                                        "typeName": "ZodDiscriminatedUnion"
                                    }
                                },
                                "value": {
                                    "catalog": "default",
                                    "database": "lakehouse_salesmarketing_auyxrwy13l5ixc",
                                    "inputType": "database/table",
                                    "table": "b2b_sales_pipeline"
                                }
                            }
                        ],
                        "iconName": "lakehouse_colored",
                        "inputShape": {
                            "total": 0
                        },
                        "label": "Amazon SageMaker Lakehouse",
                        "nodeDescription": "Read from a table in your Lakehouse catalogs.",
                        "senseiType": "Catalog",
                        "type": "dataSourceSPARK_GLUE"
                    },
                    "id": "1752969809590202",
                    "measured": {
                        "height": 56,
                        "width": 225
                    },
                    "position": {
                        "x": 0,
                        "y": 50
                    },
                    "selected": false,
                    "sourcePosition": "right",
                    "targetPosition": "left",
                    "type": "MaxDomeBasicNode"
                },
                {
                    "data": {
                        "classification": "Transform",
                        "dataModel": "Structured",
                        "fields": [
                            {
                                "customType": "customDropFieldsTransform",
                                "fieldLabel": "Columns",
                                "fieldName": "dropFields",
                                "type": "custom",
                                "validator": {
                                    "_def": {
                                        "exactLength": null,
                                        "maxLength": null,
                                        "minLength": {
                                            "value": 1
                                        },
                                        "type": {
                                            "_def": {
                                                "checks": [],
                                                "coerce": false,
                                                "typeName": "ZodString"
                                            }
                                        },
                                        "typeName": "ZodArray"
                                    }
                                },
                                "value": [
                                    "pipeline_stage"
                                ]
                            }
                        ],
                        "iconName": "custom_column_operations",
                        "inputShape": {
                            "total": 1
                        },
                        "label": "Drop columns",
                        "nodeDescription": "Remove specified columns from dataset.",
                        "senseiType": "Drop",
                        "type": "transformDropFields"
                    },
                    "id": "1752969809590203",
                    "measured": {
                        "height": 56,
                        "width": 225
                    },
                    "position": {
                        "x": 350,
                        "y": 50
                    },
                    "selected": false,
                    "sourcePosition": "right",
                    "targetPosition": "left",
                    "type": "MaxDomeBasicNode"
                },
                {
                    "data": {
                        "classification": "DataSink",
                        "connectionType": "redshift",
                        "dataModel": "Structured",
                        "fields": [
                            {
                                "customType": "readonlyConnectionType",
                                "fieldLabel": "Type",
                                "fieldName": "connectionType",
                                "type": "custom",
                                "validator": {
                                    "_def": {
                                        "checks": [
                                            {
                                                "kind": "min",
                                                "message": "Required",
                                                "value": 1
                                            }
                                        ],
                                        "coerce": false,
                                        "typeName": "ZodString"
                                    }
                                },
                                "value": "redshift"
                            },
                            {
                                "customType": "catalogConnectionSelector",
                                "fieldLabel": "Name",
                                "fieldName": "connectionName",
                                "type": "custom",
                                "validator": {
                                    "_def": {
                                        "checks": [
                                            {
                                                "kind": "min",
                                                "message": "Required",
                                                "value": 1
                                            }
                                        ],
                                        "coerce": false,
                                        "typeName": "ZodString"
                                    }
                                },
                                "value": "redshift-conn"
                            },
                            {
                                "customType": "additionalOptionsForm",
                                "fieldLabel": "Additional Options Form",
                                "fieldName": "additionalOptions",
                                "type": "custom",
                                "validator": {
                                    "_def": {
                                        "keyType": {
                                            "_def": {
                                                "checks": [],
                                                "coerce": false,
                                                "typeName": "ZodString"
                                            }
                                        },
                                        "typeName": "ZodRecord",
                                        "valueType": {
                                            "_def": {
                                                "checks": [],
                                                "coerce": false,
                                                "typeName": "ZodString"
                                            }
                                        }
                                    }
                                },
                                "value": {
                                    "manualSchema": "project",
                                    "manualTable": "b2b_sales_pipeline_cleanrs",
                                    "mode": "overwrite",
                                    "tempdir": "s3://amazon-sagemaker-851725257255-us-west-2-449dd1d4ef26/dzd_ajlm8lj3fn0l00/ajdup62k4b426o/dev/redshift-tmp/",
                                    "tempdir_region": "us-west-2"
                                }
                            }
                        ],
                        "iconName": "code",
                        "iconURL": "https://d65y25ygz123i.cloudfront.net/REDSHIFT.svg",
                        "inputShape": {
                            "total": 1
                        },
                        "label": "Amazon Redshift",
                        "nodeDescription": "Connect to Amazon Redshift.",
                        "nodeVersion": 2,
                        "provider": "connectivity",
                        "senseiType": "ConnectionV2",
                        "type": "dataSinkredshift"
                    },
                    "dragging": false,
                    "id": "1752971581456",
                    "measured": {
                        "height": 56,
                        "width": 225
                    },
                    "position": {
                        "x": 707.0124324103438,
                        "y": 50
                    },
                    "selected": true,
                    "type": "MaxDomeBasicNode"
                }
            ],
            "schemasMap": {},
            "statementsMap": {},
            "version": "1.0.0",
            "viewport": {
                "x": 0,
                "y": 0,
                "zoom": 1
            }
        }
    },
    "nbformat": 4,
    "nbformat_minor": 5
}
